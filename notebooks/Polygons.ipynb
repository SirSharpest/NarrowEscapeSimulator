{
 "cells": [
  {
   "cell_type": "code",
   "execution_count": 1,
   "metadata": {},
   "outputs": [],
   "source": [
    "%matplotlib notebook\n",
    "import numpy as np\n",
    "import matplotlib.pyplot as plt\n",
    "from mpl_toolkits.mplot3d import Axes3D\n",
    "from PyEscape.escape_plan import escape\n",
    "from PyEscape.escape_points import random_points_on_hull\n",
    "from PyEscape.escape_polygonhelper import make_hull_and_scale\n",
    "from tqdm import tqdm"
   ]
  },
  {
   "cell_type": "code",
   "execution_count": null,
   "metadata": {},
   "outputs": [
    {
     "name": "stderr",
     "output_type": "stream",
     "text": [
      " 73%|███████▎  | 73/100 [05:09<02:53,  6.44s/it]"
     ]
    }
   ],
   "source": [
    "D = 400\n",
    "v = 1\n",
    "a = 0.1\n",
    "n_pores = 1\n",
    "pts = np.random.random((10,3))\n",
    "hull, pts = make_hull_and_scale(pts)\n",
    "pores = random_points_on_hull(hull)\n",
    "\n",
    "N = 100\n",
    "results = []\n",
    "for i in tqdm(range(N)):\n",
    "    results.append(escape(D, v, a, pores, dt=1e-6, hull=hull, shape='polygon'))"
   ]
  },
  {
   "cell_type": "code",
   "execution_count": null,
   "metadata": {},
   "outputs": [],
   "source": [
    "mov_avg = np.cumsum(results)/(1+np.arange(len(results)))\n",
    "\n",
    "plt.figure()\n",
    "plt.plot(mov_avg, label='Simulations')\n",
    "plt.axhline(0.00625, label='Schuss et al.', c='r')\n",
    "plt.legend()"
   ]
  },
  {
   "cell_type": "code",
   "execution_count": null,
   "metadata": {},
   "outputs": [],
   "source": [
    "fig = plt.figure()\n",
    "ax = fig.add_subplot(111, projection=\"3d\")\n",
    "\n",
    "# Plot defining corner points\n",
    "ax.plot(pts.T[0], pts.T[1], pts.T[2], \"ko\")\n",
    "\n",
    "# 12 = 2 * 6 faces are the simplices (2 simplices per square face)\n",
    "for s in hull.simplices:\n",
    "    s = np.append(s, s[0])  # Here we cycle back to the first coordinate\n",
    "    ax.plot(pts[s, 0], pts[s, 1], pts[s, 2], \"r-\")\n",
    "\n",
    "# Make axis label\n",
    "for i in [\"x\", \"y\", \"z\"]:\n",
    "    eval(\"ax.set_{:s}label('{:s}')\".format(i, i))\n",
    "\n",
    "plt.show()"
   ]
  }
 ],
 "metadata": {
  "kernelspec": {
   "display_name": "Python 3",
   "language": "python",
   "name": "python3"
  },
  "language_info": {
   "codemirror_mode": {
    "name": "ipython",
    "version": 3
   },
   "file_extension": ".py",
   "mimetype": "text/x-python",
   "name": "python",
   "nbconvert_exporter": "python",
   "pygments_lexer": "ipython3",
   "version": "3.7.7"
  }
 },
 "nbformat": 4,
 "nbformat_minor": 4
}
