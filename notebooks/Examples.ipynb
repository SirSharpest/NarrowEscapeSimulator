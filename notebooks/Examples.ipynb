{
 "cells": [
  {
   "cell_type": "markdown",
   "metadata": {},
   "source": [
    "# Matching results from analytical solutions"
   ]
  },
  {
   "cell_type": "markdown",
   "metadata": {},
   "source": [
    "In [Schuss et al.](https://www.pnas.org/content/104/41/16098) they show that for D = 400, a = 0.1 and v = 1, the mean escape time is 0.00625 s.\n",
    "\n",
    "We can use this model to test if that is a resonable result"
   ]
  },
  {
   "cell_type": "code",
   "execution_count": null,
   "metadata": {},
   "outputs": [],
   "source": [
    "%matplotlib notebook\n",
    "import numpy as np\n",
    "import matplotlib.pyplot as plt\n",
    "from mpl_toolkits.mplot3d import Axes3D\n",
    "\n",
    "from PyEscape.escape_plan import escape\n",
    "from PyEscape.escape_points import fibonacci_spheres, points_on_cube_surface\n",
    "from PyEscape.escape_utility import sphere_vol_to_r, calculate_delta\n",
    "from tqdm import tqdm"
   ]
  },
  {
   "cell_type": "code",
   "execution_count": null,
   "metadata": {},
   "outputs": [],
   "source": [
    "D = 400\n",
    "v = 1\n",
    "a = 0.1\n",
    "n_pores = 1\n",
    "pores = fibonacci_spheres(n_pores, v)\n",
    "\n",
    "N = 100\n",
    "\n",
    "results = []\n",
    "for i in tqdm(range(N)):\n",
    "    results.append(escape(D, v, a, pores, dt=1e-8))"
   ]
  },
  {
   "cell_type": "code",
   "execution_count": null,
   "metadata": {},
   "outputs": [],
   "source": [
    "mov_avg = np.cumsum(results)/(1+np.arange(len(results)))"
   ]
  },
  {
   "cell_type": "code",
   "execution_count": null,
   "metadata": {},
   "outputs": [],
   "source": [
    "plt.figure()\n",
    "plt.plot(mov_avg, label='Simulations')\n",
    "plt.axhline(0.00625, label='Schuss et al.', c='r')\n",
    "plt.legend()"
   ]
  },
  {
   "cell_type": "markdown",
   "metadata": {},
   "source": [
    "We can see from the above figure, that for our parameters we can accurately, and quickly arrive at a viable solution to Schuss et al. "
   ]
  },
  {
   "cell_type": "markdown",
   "metadata": {},
   "source": [
    "# Visualising escape paths"
   ]
  },
  {
   "cell_type": "code",
   "execution_count": null,
   "metadata": {},
   "outputs": [],
   "source": [
    "from PyEscape.escape_drawing import draw_sphere\n",
    "\n",
    "fig = plt.figure(figsize=(8,8))\n",
    "ax = fig.add_subplot(111, projection='3d')\n",
    "\n",
    "values, _ = escape(D, v,a, pores, with_path=True)\n",
    "ax.plot(np.append(values[:,0][::100],values[:,0][-1] ) ,\n",
    "        np.append(values[:,1][::100], values[:,1][-1]),\n",
    "        np.append(values[:,2][::100],values[:,2][-1]),\n",
    "        alpha=1, linewidth=0.5, label='Escape Path')\n",
    "\n",
    "draw_sphere(v, ax)\n",
    "\n",
    "for idx, p in enumerate(pores):\n",
    "    ax.scatter(p[0], p[1], p[2], c='r', alpha=0.8, s=1000, label='Escape Pore' if idx == 0 else \"\" )\n",
    "ax.legend()"
   ]
  }
 ],
 "metadata": {
  "kernelspec": {
   "display_name": "Python 3",
   "language": "python",
   "name": "python3"
  },
  "language_info": {
   "codemirror_mode": {
    "name": "ipython",
    "version": 3
   },
   "file_extension": ".py",
   "mimetype": "text/x-python",
   "name": "python",
   "nbconvert_exporter": "python",
   "pygments_lexer": "ipython3",
   "version": "3.7.7"
  },
  "name": "Examples.ipynb"
 },
 "nbformat": 4,
 "nbformat_minor": 2
}
